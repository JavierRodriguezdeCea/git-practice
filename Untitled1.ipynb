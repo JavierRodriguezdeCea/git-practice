{
 "cells": [
  {
   "cell_type": "code",
   "execution_count": null,
   "id": "bda9b8fa",
   "metadata": {},
   "outputs": [],
   "source": [
    "%load_ext autoreload\n",
    "%autoreload 2 \n",
    "from Codigo_inicial import alcampo as alcampo\n",
    "from Codigo_inicial import eroski as eroski\n",
    "from Codigo_inicial import dia as dia\n",
    "import pandas as pd\n",
    "\n",
    "def collect_data(search_term):\n",
    "    search_term = input(\"Introduce el término de búsqueda:\")\n",
    "    df_alcampo = alcampo(search_term)\n",
    "    df_eroski = eroski(search_term)\n",
    "    df_dia = dia(search_term)\n",
    "    df_unido = pd.concat([df_alcampo, df_eroski, df_dia], ignore_index=True)\n",
    "    df_unido = df_unido.sort_values(\"Uniform Price (€)\").reset_index(drop=True)\n",
    "\n",
    "    return df_unido\n",
    "\n",
    "def save_dataframes(df_unido):\n",
    "    df_unido.to_csv('precos_supermercados.csv', index=False)\n",
    "    print(\"DataFrames salvos em 'precios_supermercados.csv'.\")\n",
    "\n",
    "if __name__ == \"__main__\":\n",
    "    search_term = input(\"Introduce el término de búsqueda: \")\n",
    "    df_unido = collect_data(search_term)\n",
    "    save_dataframes(df_unido)\n"
   ]
  }
 ],
 "metadata": {
  "kernelspec": {
   "display_name": "Python 3 (ipykernel)",
   "language": "python",
   "name": "python3"
  },
  "language_info": {
   "codemirror_mode": {
    "name": "ipython",
    "version": 3
   },
   "file_extension": ".py",
   "mimetype": "text/x-python",
   "name": "python",
   "nbconvert_exporter": "python",
   "pygments_lexer": "ipython3",
   "version": "3.11.5"
  }
 },
 "nbformat": 4,
 "nbformat_minor": 5
}
