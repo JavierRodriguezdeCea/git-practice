{
 "cells": [
  {
   "cell_type": "code",
   "execution_count": 1,
   "metadata": {},
   "outputs": [],
   "source": [
    "import requests"
   ]
  },
  {
   "cell_type": "code",
   "execution_count": 2,
   "metadata": {},
   "outputs": [],
   "source": [
    "from bs4 import BeautifulSoup"
   ]
  },
  {
   "cell_type": "code",
   "execution_count": 3,
   "metadata": {},
   "outputs": [],
   "source": [
    "url = \"\""
   ]
  },
  {
   "cell_type": "code",
   "execution_count": null,
   "metadata": {},
   "outputs": [],
   "source": [
    "respuesta = requests.get(url)"
   ]
  },
  {
   "cell_type": "code",
   "execution_count": null,
   "metadata": {},
   "outputs": [],
   "source": [
    "if respuesta.status_code == 200:\n",
    "    soup = BeautifulSoup(respuesta.text, \"html.parser\")\n",
    "    \n",
    "    maquinas = soup.find_all(\"div\", onclick=True) #encuentra todos los divs con llamada a la accion\n",
    "    \n",
    "    for maquinas in maquinas:\n",
    "        onclick_text = maquina(\"onclick\")\n",
    "        nombre_maquina = onclick_text.split(\"'\")[1]\n",
    "        print(nombre_maquina)\n",
    "\n",
    "else:\n",
    "    print(\"hubo un error\")"
   ]
  }
 ],
 "metadata": {
  "kernelspec": {
   "display_name": "Python 3",
   "language": "python",
   "name": "python3"
  },
  "language_info": {
   "codemirror_mode": {
    "name": "ipython",
    "version": 3
   },
   "file_extension": ".py",
   "mimetype": "text/x-python",
   "name": "python",
   "nbconvert_exporter": "python",
   "pygments_lexer": "ipython3",
   "version": "3.11.9"
  }
 },
 "nbformat": 4,
 "nbformat_minor": 2
}
