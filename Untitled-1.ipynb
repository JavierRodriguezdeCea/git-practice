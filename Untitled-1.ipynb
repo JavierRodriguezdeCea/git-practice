{
 "cells": [
  {
   "cell_type": "code",
   "execution_count": 3,
   "metadata": {},
   "outputs": [
    {
     "name": "stdout",
     "output_type": "stream",
     "text": [
      "hubo un error al acceder a la pagina. El error es: 403\n"
     ]
    }
   ],
   "source": [
    "import requests\n",
    "from bs4 import BeautifulSoup\n",
    "url = \"https://www.dia.es/leche-huevos-y-mantequilla/huevos/c/L2055\" #web de la seccion\n",
    "\n",
    "respuesta = requests.get(url)\n",
    "\n",
    "respuesta.status_code\n",
    "\n",
    "if respuesta.status_code == 200:\n",
    "    soup = BeautifulSoup(respuesta.text, \"html.parser\")\n",
    "\n",
    "    productos = soup.find_all('p', class_='search-product-card__product-name')\n",
    "    precios = soup.find_all('p', class_='search-product-card__price-per-unit')\n",
    "\n",
    "    lista_productos = {}\n",
    "\n",
    "    for producto, precio in zip(productos, precios):\n",
    "        precio = (float(precio.get_text(strip=True).replace('€', '').replace(',', '.').replace(\"&nbsp;\", \"\")))\n",
    "        producto = (producto.get_text(strip=True))\n",
    "        lista_productos[producto] = precio\n",
    "\n",
    "    lista_productos.sort(key=lambda x: x[1])\n",
    "\n",
    "    if lista_productos:\n",
    "        print(f'El producto más barato es: {lista_productos[0][0]} con un precio de {lista_productos[0][1]}€')\n",
    "else:\n",
    "    print(f\"hubo un error al acceder a la pagina. El error es: {respuesta.status_code}\")\n"
   ]
  },
  {
   "cell_type": "code",
   "execution_count": null,
   "metadata": {},
   "outputs": [],
   "source": [
    "import requests\n",
    "from bs4 import BeautifulSoup\n",
    "import random\n",
    "import time\n",
    "\n",
    "# Lista de agentes de usuario\n",
    "user_agents = [\n",
    "    'Mozilla/5.0 (Windows NT 10.0; Win64; x64) AppleWebKit/537.36 (KHTML, like Gecko) Chrome/58.0.3029.110 Safari/537.3',\n",
    "    'Mozilla/5.0 (Windows NT 10.0; Win64; x64; rv:76.0) Gecko/20100101 Firefox/76.0',\n",
    "    'Mozilla/5.0 (Macintosh; Intel Mac OS X 10.15; rv:76.0) Gecko/20100101 Firefox/76.0'\n",
    "]\n",
    "\n",
    "# Función para obtener el contenido de la página\n",
    "def get_page_content(url, proxy=None):\n",
    "    headers = {'User-Agent': random.choice(user_agents)}\n",
    "    response = requests.get(url, headers=headers, proxies=proxy)\n",
    "    if response.status_code == 200:\n",
    "        return response.content\n",
    "    else:\n",
    "        return None\n",
    "\n",
    "# URL de la página que quieres scrapear\n",
    "url = 'https://www.carrefour.es/supermercado/huevos/cat20031/c'\n",
    "\n",
    "# Probar con diferentes proxies y agentes de usuario\n",
    "for i in range(5):\n",
    "    proxy = {'http': 'http://proxy1.example.com:8080'}\n",
    "    page_content = get_page_content(url, proxy)\n",
    "    if page_content:\n",
    "        soup = BeautifulSoup(page_content, 'html.parser')\n",
    "        # Extraer información de los productos aquí\n",
    "        print(soup.prettify())\n",
    "        break\n",
    "    else:\n",
    "        print("
   ]
  }
 ],
 "metadata": {
  "kernelspec": {
   "display_name": "Python 3",
   "language": "python",
   "name": "python3"
  },
  "language_info": {
   "codemirror_mode": {
    "name": "ipython",
    "version": 3
   },
   "file_extension": ".py",
   "mimetype": "text/x-python",
   "name": "python",
   "nbconvert_exporter": "python",
   "pygments_lexer": "ipython3",
   "version": "3.11.9"
  }
 },
 "nbformat": 4,
 "nbformat_minor": 2
}
