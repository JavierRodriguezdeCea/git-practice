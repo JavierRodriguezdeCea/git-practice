{
 "cells": [
  {
   "cell_type": "code",
   "execution_count": 2,
   "metadata": {},
   "outputs": [
    {
     "name": "stdout",
     "output_type": "stream",
     "text": [
      "The autoreload extension is already loaded. To reload it, use:\n",
      "  %reload_ext autoreload\n"
     ]
    }
   ],
   "source": [
    "%load_ext autoreload\n",
    "%autoreload 2 \n",
    "from Codigo_inicial import alcampo as alcampo\n",
    "from Codigo_inicial import eroski as eroski\n",
    "from Codigo_inicial import dia as dia\n",
    "import pandas as pd"
   ]
  },
  {
   "cell_type": "code",
   "execution_count": 3,
   "metadata": {},
   "outputs": [
    {
     "name": "stdout",
     "output_type": "stream",
     "text": [
      "Introduce el término de búsqueda:huevos\n"
     ]
    },
    {
     "data": {
      "text/html": [
       "<div>\n",
       "<style scoped>\n",
       "    .dataframe tbody tr th:only-of-type {\n",
       "        vertical-align: middle;\n",
       "    }\n",
       "\n",
       "    .dataframe tbody tr th {\n",
       "        vertical-align: top;\n",
       "    }\n",
       "\n",
       "    .dataframe thead th {\n",
       "        text-align: right;\n",
       "    }\n",
       "</style>\n",
       "<table border=\"1\" class=\"dataframe\">\n",
       "  <thead>\n",
       "    <tr style=\"text-align: right;\">\n",
       "      <th></th>\n",
       "      <th>Name</th>\n",
       "      <th>Price (€)</th>\n",
       "      <th>Cantidad</th>\n",
       "      <th>Uniform Price (€)</th>\n",
       "      <th>Super</th>\n",
       "    </tr>\n",
       "  </thead>\n",
       "  <tbody>\n",
       "    <tr>\n",
       "      <th>0</th>\n",
       "      <td>PITAS Huevos de codorniz frescos 18 uds.</td>\n",
       "      <td>2.00</td>\n",
       "      <td>18 por envase</td>\n",
       "      <td>1.33</td>\n",
       "      <td>Alcampo</td>\n",
       "    </tr>\n",
       "    <tr>\n",
       "      <th>1</th>\n",
       "      <td>LOS FRESQUITOS Huevos de gallinas en jaulas ac...</td>\n",
       "      <td>1.53</td>\n",
       "      <td>10 por envase</td>\n",
       "      <td>1.84</td>\n",
       "      <td>Alcampo</td>\n",
       "    </tr>\n",
       "    <tr>\n",
       "      <th>2</th>\n",
       "      <td>PITAS Huevos de gallinas en jaulas acondiciona...</td>\n",
       "      <td>1.89</td>\n",
       "      <td>12 por envase</td>\n",
       "      <td>1.89</td>\n",
       "      <td>Alcampo</td>\n",
       "    </tr>\n",
       "    <tr>\n",
       "      <th>3</th>\n",
       "      <td>AUCHAN Huevos de gallinas sueltas en el gallin...</td>\n",
       "      <td>4.83</td>\n",
       "      <td>30 por envase</td>\n",
       "      <td>1.93</td>\n",
       "      <td>Alcampo</td>\n",
       "    </tr>\n",
       "    <tr>\n",
       "      <th>4</th>\n",
       "      <td>Huevo de codorniz HOBEA, caja 12 uds</td>\n",
       "      <td>1.93</td>\n",
       "      <td>12 uds</td>\n",
       "      <td>1.93</td>\n",
       "      <td>Eroski</td>\n",
       "    </tr>\n",
       "    <tr>\n",
       "      <th>...</th>\n",
       "      <td>...</td>\n",
       "      <td>...</td>\n",
       "      <td>...</td>\n",
       "      <td>...</td>\n",
       "      <td>...</td>\n",
       "    </tr>\n",
       "    <tr>\n",
       "      <th>95</th>\n",
       "      <td>Huevos de chocolate con sorpresa 3 unidades Ki...</td>\n",
       "      <td>3.49</td>\n",
       "      <td>60 g</td>\n",
       "      <td>58.17</td>\n",
       "      <td>Dia</td>\n",
       "    </tr>\n",
       "    <tr>\n",
       "      <th>96</th>\n",
       "      <td>Huevo de chocolate maxi con sorpresa Kinder 100 g</td>\n",
       "      <td>5.99</td>\n",
       "      <td>100 g</td>\n",
       "      <td>59.90</td>\n",
       "      <td>Dia</td>\n",
       "    </tr>\n",
       "    <tr>\n",
       "      <th>97</th>\n",
       "      <td>Huevo de chocolate con sorpresa Kinder 20 g</td>\n",
       "      <td>1.30</td>\n",
       "      <td>20 g</td>\n",
       "      <td>65.00</td>\n",
       "      <td>Dia</td>\n",
       "    </tr>\n",
       "    <tr>\n",
       "      <th>98</th>\n",
       "      <td>Huevos de chocolate con sorpresa Kinder bliste...</td>\n",
       "      <td>3.99</td>\n",
       "      <td>60 g</td>\n",
       "      <td>66.50</td>\n",
       "      <td>Dia</td>\n",
       "    </tr>\n",
       "    <tr>\n",
       "      <th>99</th>\n",
       "      <td>Huevo de chocolate con sorpresa joy Kinder 20 g</td>\n",
       "      <td>1.50</td>\n",
       "      <td>20 g</td>\n",
       "      <td>75.00</td>\n",
       "      <td>Dia</td>\n",
       "    </tr>\n",
       "  </tbody>\n",
       "</table>\n",
       "<p>100 rows × 5 columns</p>\n",
       "</div>"
      ],
      "text/plain": [
       "                                                 Name  Price (€)  \\\n",
       "0            PITAS Huevos de codorniz frescos 18 uds.       2.00   \n",
       "1   LOS FRESQUITOS Huevos de gallinas en jaulas ac...       1.53   \n",
       "2   PITAS Huevos de gallinas en jaulas acondiciona...       1.89   \n",
       "3   AUCHAN Huevos de gallinas sueltas en el gallin...       4.83   \n",
       "4                Huevo de codorniz HOBEA, caja 12 uds       1.93   \n",
       "..                                                ...        ...   \n",
       "95  Huevos de chocolate con sorpresa 3 unidades Ki...       3.49   \n",
       "96  Huevo de chocolate maxi con sorpresa Kinder 100 g       5.99   \n",
       "97        Huevo de chocolate con sorpresa Kinder 20 g       1.30   \n",
       "98  Huevos de chocolate con sorpresa Kinder bliste...       3.99   \n",
       "99    Huevo de chocolate con sorpresa joy Kinder 20 g       1.50   \n",
       "\n",
       "         Cantidad  Uniform Price (€)    Super  \n",
       "0   18 por envase               1.33  Alcampo  \n",
       "1   10 por envase               1.84  Alcampo  \n",
       "2   12 por envase               1.89  Alcampo  \n",
       "3   30 por envase               1.93  Alcampo  \n",
       "4          12 uds               1.93   Eroski  \n",
       "..            ...                ...      ...  \n",
       "95           60 g              58.17      Dia  \n",
       "96          100 g              59.90      Dia  \n",
       "97           20 g              65.00      Dia  \n",
       "98           60 g              66.50      Dia  \n",
       "99           20 g              75.00      Dia  \n",
       "\n",
       "[100 rows x 5 columns]"
      ]
     },
     "execution_count": 3,
     "metadata": {},
     "output_type": "execute_result"
    }
   ],
   "source": [
    "search_term = input(\"Introduce el término de búsqueda:\")\n",
    "df_alcampo = alcampo(search_term)\n",
    "df_eroski = eroski(search_term)\n",
    "df_dia = dia(search_term)\n",
    "df_unido = pd.concat([df_alcampo, df_eroski, df_dia], axis=0)\n",
    "df_unido = df_unido.sort_values(\"Uniform Price (€)\").reset_index(drop=True)\n",
    "df_unido"
   ]
  },
  {
   "cell_type": "code",
   "execution_count": 4,
   "metadata": {},
   "outputs": [
    {
     "name": "stdout",
     "output_type": "stream",
     "text": [
      "\n",
      "    Supermercado: Alcampo\n",
      "    Término de búsqueda: huevos\n",
      "    El producto mas barato es: PITAS Huevos de codorniz frescos 18 uds.\n",
      "    Tiene 18 por envase \n",
      "    Su precio uniforme es: 1.33 €\n",
      "    El precio del producto es: 2.0 €\n",
      "    \n"
     ]
    }
   ],
   "source": [
    "print(f\"\"\"\n",
    "    Supermercado: {df_unido[\"Super\"][0]}\n",
    "    Término de búsqueda: {search_term}\n",
    "    El producto mas barato es: {df_unido[\"Name\"][0]}\n",
    "    Tiene {df_unido[\"Cantidad\"][0]} \n",
    "    Su precio uniforme es: {df_unido[\"Uniform Price (€)\"][0]} €\n",
    "    El precio del producto es: {df_unido[\"Price (€)\"][0]} €\n",
    "    \"\"\")"
   ]
  },
  {
   "cell_type": "code",
   "execution_count": null,
   "metadata": {},
   "outputs": [],
   "source": []
  }
 ],
 "metadata": {
  "kernelspec": {
   "display_name": "Python 3 (ipykernel)",
   "language": "python",
   "name": "python3"
  },
  "language_info": {
   "codemirror_mode": {
    "name": "ipython",
    "version": 3
   },
   "file_extension": ".py",
   "mimetype": "text/x-python",
   "name": "python",
   "nbconvert_exporter": "python",
   "pygments_lexer": "ipython3",
   "version": "3.11.5"
  }
 },
 "nbformat": 4,
 "nbformat_minor": 2
}
